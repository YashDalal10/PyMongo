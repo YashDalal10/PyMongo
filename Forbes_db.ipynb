{
 "cells": [
  {
   "cell_type": "code",
   "execution_count": 45,
   "metadata": {},
   "outputs": [],
   "source": [
    "import pymongo"
   ]
  },
  {
   "cell_type": "code",
   "execution_count": 46,
   "metadata": {},
   "outputs": [],
   "source": [
    "Client = pymongo.MongoClient(\"mongodb://localhost:27017/\")"
   ]
  },
  {
   "cell_type": "code",
   "execution_count": 47,
   "metadata": {},
   "outputs": [],
   "source": [
    "forbes1 = Client['forbes2000']\n",
    "collection_name = 'Forbes2015'\n",
    "db_forbes = forbes1[collection_name]"
   ]
  },
  {
   "cell_type": "code",
   "execution_count": 48,
   "metadata": {},
   "outputs": [],
   "source": [
    "import pandas as pd"
   ]
  },
  {
   "cell_type": "code",
   "execution_count": 49,
   "metadata": {},
   "outputs": [
    {
     "data": {
      "text/html": [
       "<div>\n",
       "<style scoped>\n",
       "    .dataframe tbody tr th:only-of-type {\n",
       "        vertical-align: middle;\n",
       "    }\n",
       "\n",
       "    .dataframe tbody tr th {\n",
       "        vertical-align: top;\n",
       "    }\n",
       "\n",
       "    .dataframe thead th {\n",
       "        text-align: right;\n",
       "    }\n",
       "</style>\n",
       "<table border=\"1\" class=\"dataframe\">\n",
       "  <thead>\n",
       "    <tr style=\"text-align: right;\">\n",
       "      <th></th>\n",
       "      <th>Unnamed: 0</th>\n",
       "      <th>rank</th>\n",
       "      <th>name</th>\n",
       "      <th>country</th>\n",
       "      <th>category</th>\n",
       "      <th>sales</th>\n",
       "      <th>profits</th>\n",
       "      <th>assets</th>\n",
       "      <th>marketvalue</th>\n",
       "    </tr>\n",
       "  </thead>\n",
       "  <tbody>\n",
       "    <tr>\n",
       "      <th>0</th>\n",
       "      <td>1</td>\n",
       "      <td>1</td>\n",
       "      <td>Citigroup</td>\n",
       "      <td>United States</td>\n",
       "      <td>Banking</td>\n",
       "      <td>94.71</td>\n",
       "      <td>17.85</td>\n",
       "      <td>1264.03</td>\n",
       "      <td>255.30</td>\n",
       "    </tr>\n",
       "    <tr>\n",
       "      <th>1</th>\n",
       "      <td>2</td>\n",
       "      <td>2</td>\n",
       "      <td>General Electric</td>\n",
       "      <td>United States</td>\n",
       "      <td>Conglomerates</td>\n",
       "      <td>134.19</td>\n",
       "      <td>15.59</td>\n",
       "      <td>626.93</td>\n",
       "      <td>328.54</td>\n",
       "    </tr>\n",
       "    <tr>\n",
       "      <th>2</th>\n",
       "      <td>3</td>\n",
       "      <td>3</td>\n",
       "      <td>American Intl Group</td>\n",
       "      <td>United States</td>\n",
       "      <td>Insurance</td>\n",
       "      <td>76.66</td>\n",
       "      <td>6.46</td>\n",
       "      <td>647.66</td>\n",
       "      <td>194.87</td>\n",
       "    </tr>\n",
       "    <tr>\n",
       "      <th>3</th>\n",
       "      <td>4</td>\n",
       "      <td>4</td>\n",
       "      <td>ExxonMobil</td>\n",
       "      <td>United States</td>\n",
       "      <td>Oil &amp; gas operations</td>\n",
       "      <td>222.88</td>\n",
       "      <td>20.96</td>\n",
       "      <td>166.99</td>\n",
       "      <td>277.02</td>\n",
       "    </tr>\n",
       "    <tr>\n",
       "      <th>4</th>\n",
       "      <td>5</td>\n",
       "      <td>5</td>\n",
       "      <td>BP</td>\n",
       "      <td>United Kingdom</td>\n",
       "      <td>Oil &amp; gas operations</td>\n",
       "      <td>232.57</td>\n",
       "      <td>10.27</td>\n",
       "      <td>177.57</td>\n",
       "      <td>173.54</td>\n",
       "    </tr>\n",
       "  </tbody>\n",
       "</table>\n",
       "</div>"
      ],
      "text/plain": [
       "   Unnamed: 0  rank                 name         country  \\\n",
       "0           1     1            Citigroup   United States   \n",
       "1           2     2     General Electric   United States   \n",
       "2           3     3  American Intl Group   United States   \n",
       "3           4     4           ExxonMobil   United States   \n",
       "4           5     5                   BP  United Kingdom   \n",
       "\n",
       "               category   sales  profits   assets  marketvalue  \n",
       "0               Banking   94.71    17.85  1264.03       255.30  \n",
       "1         Conglomerates  134.19    15.59   626.93       328.54  \n",
       "2             Insurance   76.66     6.46   647.66       194.87  \n",
       "3  Oil & gas operations  222.88    20.96   166.99       277.02  \n",
       "4  Oil & gas operations  232.57    10.27   177.57       173.54  "
      ]
     },
     "execution_count": 49,
     "metadata": {},
     "output_type": "execute_result"
    }
   ],
   "source": [
    "f1 = pd.read_csv(\"C:/Users/Yash/Desktop/SM/Forbes2000.csv\")\n",
    "f1.head()"
   ]
  },
  {
   "cell_type": "code",
   "execution_count": 50,
   "metadata": {},
   "outputs": [
    {
     "data": {
      "text/html": [
       "<div>\n",
       "<style scoped>\n",
       "    .dataframe tbody tr th:only-of-type {\n",
       "        vertical-align: middle;\n",
       "    }\n",
       "\n",
       "    .dataframe tbody tr th {\n",
       "        vertical-align: top;\n",
       "    }\n",
       "\n",
       "    .dataframe thead th {\n",
       "        text-align: right;\n",
       "    }\n",
       "</style>\n",
       "<table border=\"1\" class=\"dataframe\">\n",
       "  <thead>\n",
       "    <tr style=\"text-align: right;\">\n",
       "      <th></th>\n",
       "      <th>rank</th>\n",
       "      <th>name</th>\n",
       "      <th>country</th>\n",
       "      <th>category</th>\n",
       "      <th>sales</th>\n",
       "      <th>profits</th>\n",
       "      <th>assets</th>\n",
       "      <th>marketvalue</th>\n",
       "    </tr>\n",
       "  </thead>\n",
       "  <tbody>\n",
       "    <tr>\n",
       "      <th>0</th>\n",
       "      <td>1</td>\n",
       "      <td>Citigroup</td>\n",
       "      <td>United States</td>\n",
       "      <td>Banking</td>\n",
       "      <td>94.71</td>\n",
       "      <td>17.85</td>\n",
       "      <td>1264.03</td>\n",
       "      <td>255.30</td>\n",
       "    </tr>\n",
       "    <tr>\n",
       "      <th>1</th>\n",
       "      <td>2</td>\n",
       "      <td>General Electric</td>\n",
       "      <td>United States</td>\n",
       "      <td>Conglomerates</td>\n",
       "      <td>134.19</td>\n",
       "      <td>15.59</td>\n",
       "      <td>626.93</td>\n",
       "      <td>328.54</td>\n",
       "    </tr>\n",
       "    <tr>\n",
       "      <th>2</th>\n",
       "      <td>3</td>\n",
       "      <td>American Intl Group</td>\n",
       "      <td>United States</td>\n",
       "      <td>Insurance</td>\n",
       "      <td>76.66</td>\n",
       "      <td>6.46</td>\n",
       "      <td>647.66</td>\n",
       "      <td>194.87</td>\n",
       "    </tr>\n",
       "    <tr>\n",
       "      <th>3</th>\n",
       "      <td>4</td>\n",
       "      <td>ExxonMobil</td>\n",
       "      <td>United States</td>\n",
       "      <td>Oil &amp; gas operations</td>\n",
       "      <td>222.88</td>\n",
       "      <td>20.96</td>\n",
       "      <td>166.99</td>\n",
       "      <td>277.02</td>\n",
       "    </tr>\n",
       "    <tr>\n",
       "      <th>4</th>\n",
       "      <td>5</td>\n",
       "      <td>BP</td>\n",
       "      <td>United Kingdom</td>\n",
       "      <td>Oil &amp; gas operations</td>\n",
       "      <td>232.57</td>\n",
       "      <td>10.27</td>\n",
       "      <td>177.57</td>\n",
       "      <td>173.54</td>\n",
       "    </tr>\n",
       "  </tbody>\n",
       "</table>\n",
       "</div>"
      ],
      "text/plain": [
       "   rank                 name         country              category   sales  \\\n",
       "0     1            Citigroup   United States               Banking   94.71   \n",
       "1     2     General Electric   United States         Conglomerates  134.19   \n",
       "2     3  American Intl Group   United States             Insurance   76.66   \n",
       "3     4           ExxonMobil   United States  Oil & gas operations  222.88   \n",
       "4     5                   BP  United Kingdom  Oil & gas operations  232.57   \n",
       "\n",
       "   profits   assets  marketvalue  \n",
       "0    17.85  1264.03       255.30  \n",
       "1    15.59   626.93       328.54  \n",
       "2     6.46   647.66       194.87  \n",
       "3    20.96   166.99       277.02  \n",
       "4    10.27   177.57       173.54  "
      ]
     },
     "execution_count": 50,
     "metadata": {},
     "output_type": "execute_result"
    }
   ],
   "source": [
    "f1.drop(['Unnamed: 0'],1,inplace = True)\n",
    "f1.head()"
   ]
  },
  {
   "cell_type": "code",
   "execution_count": 9,
   "metadata": {},
   "outputs": [],
   "source": [
    "import json"
   ]
  },
  {
   "cell_type": "code",
   "execution_count": 10,
   "metadata": {},
   "outputs": [
    {
     "name": "stdout",
     "output_type": "stream",
     "text": [
      "[{'rank': 1, 'name': 'Citigroup', 'country': 'United States', 'category': 'Banking', 'sales': 94.71, 'profits': 17.85, 'assets': 1264.03, 'marketvalue': 255.3}, {'rank': 2, 'name': 'General Electric', 'country': 'United States', 'category': 'Conglomerates', 'sales': 134.19, 'profits': 15.59, 'assets': 626.93, 'marketvalue': 328.54}, {'rank': 3, 'name': 'American Intl Group', 'country': 'United States', 'category': 'Insurance', 'sales': 76.66, 'profits': 6.46, 'assets': 647.66, 'marketvalue': 194.87}, {'rank': 4, 'name': 'ExxonMobil', 'country': 'United States', 'category': 'Oil & gas operations', 'sales': 222.88, 'profits': 20.96, 'assets': 166.99, 'marketvalue': 277.02}, {'rank': 5, 'name': 'BP', 'country': 'United Kingdom', 'category': 'Oil & gas operations', 'sales': 232.57, 'profits': 10.27, 'assets': 177.57, 'marketvalue': 173.54}]\n"
     ]
    }
   ],
   "source": [
    "Forbes_json = json.loads(f1.to_json(orient='records'))\n",
    "print(Forbes_json[0:5])"
   ]
  },
  {
   "cell_type": "code",
   "execution_count": 12,
   "metadata": {},
   "outputs": [],
   "source": [
    "db_forbes.insert(Forbes_json)"
   ]
  },
  {
   "cell_type": "code",
   "execution_count": 14,
   "metadata": {},
   "outputs": [
    {
     "data": {
      "text/plain": [
       "<pymongo.cursor.Cursor at 0x21240e2f438>"
      ]
     },
     "execution_count": 14,
     "metadata": {},
     "output_type": "execute_result"
    }
   ],
   "source": [
    "db_forbes.Forbes2015.find()"
   ]
  },
  {
   "cell_type": "code",
   "execution_count": 51,
   "metadata": {},
   "outputs": [
    {
     "data": {
      "text/plain": [
       "{'_id': ObjectId('5e5210d0fa600457e70a62ac'),\n",
       " 'rank': 1,\n",
       " 'name': 'Citigroup',\n",
       " 'country': 'United States',\n",
       " 'category': 'Banking',\n",
       " 'sales': 94.71,\n",
       " 'profits': 17.85,\n",
       " 'assets': 1264.03,\n",
       " 'marketvalue': 255.3}"
      ]
     },
     "execution_count": 51,
     "metadata": {},
     "output_type": "execute_result"
    }
   ],
   "source": [
    "db_forbes.find_one()"
   ]
  },
  {
   "cell_type": "code",
   "execution_count": 52,
   "metadata": {},
   "outputs": [
    {
     "name": "stdout",
     "output_type": "stream",
     "text": [
      "{'_id': ObjectId('5e5210d0fa600457e70a62b5'), 'rank': 10, 'name': 'Wal-Mart Stores', 'country': 'United States', 'category': 'Retailing', 'sales': 256.33, 'profits': 9.05, 'assets': 104.91, 'marketvalue': 243.74}\n"
     ]
    }
   ],
   "source": [
    "print(db_forbes.find_one({'rank':10}))"
   ]
  },
  {
   "cell_type": "code",
   "execution_count": 53,
   "metadata": {},
   "outputs": [
    {
     "name": "stdout",
     "output_type": "stream",
     "text": [
      "{'_id': ObjectId('5e5210d0fa600457e70a62ad'), 'rank': 2, 'name': 'General Electric', 'country': 'United States', 'category': 'Conglomerates', 'sales': 134.19, 'profits': 15.59, 'assets': 626.93, 'marketvalue': 328.54}\n",
      "{'_id': ObjectId('5e5210d0fa600457e70a62af'), 'rank': 4, 'name': 'ExxonMobil', 'country': 'United States', 'category': 'Oil & gas operations', 'sales': 222.88, 'profits': 20.96, 'assets': 166.99, 'marketvalue': 277.02}\n",
      "{'_id': ObjectId('5e5210d0fa600457e70a62b0'), 'rank': 5, 'name': 'BP', 'country': 'United Kingdom', 'category': 'Oil & gas operations', 'sales': 232.57, 'profits': 10.27, 'assets': 177.57, 'marketvalue': 173.54}\n",
      "{'_id': ObjectId('5e5210d0fa600457e70a62b3'), 'rank': 8, 'name': 'Toyota Motor', 'country': 'Japan', 'category': 'Consumer durables', 'sales': 135.82, 'profits': 7.99, 'assets': 171.71, 'marketvalue': 115.4}\n",
      "{'_id': ObjectId('5e5210d0fa600457e70a62b5'), 'rank': 10, 'name': 'Wal-Mart Stores', 'country': 'United States', 'category': 'Retailing', 'sales': 256.33, 'profits': 9.05, 'assets': 104.91, 'marketvalue': 243.74}\n",
      "{'_id': ObjectId('5e5210d0fa600457e70a62b8'), 'rank': 13, 'name': 'Royal Dutch/Shell Group', 'country': 'Netherlands/ United Kingdom', 'category': 'Oil & gas operations', 'sales': 133.5, 'profits': 8.4, 'assets': 100.72, 'marketvalue': 163.45}\n",
      "{'_id': ObjectId('5e5210d0fa600457e70a62bc'), 'rank': 17, 'name': 'Total', 'country': 'France', 'category': 'Oil & gas operations', 'sales': 131.64, 'profits': 8.84, 'assets': 87.84, 'marketvalue': 116.64}\n",
      "{'_id': ObjectId('5e5210d0fa600457e70a62c0'), 'rank': 21, 'name': 'DaimlerChrysler', 'country': 'Germany', 'category': 'Consumer durables', 'sales': 157.13, 'profits': 5.12, 'assets': 195.58, 'marketvalue': 47.43}\n",
      "{'_id': ObjectId('5e5210d0fa600457e70a62c2'), 'rank': 23, 'name': 'ChevronTexaco', 'country': 'United States', 'category': 'Oil & gas operations', 'sales': 112.94, 'profits': 7.43, 'assets': 82.36, 'marketvalue': 92.49}\n",
      "{'_id': ObjectId('5e5210d0fa600457e70a62c8'), 'rank': 29, 'name': 'General Motors', 'country': 'United States', 'category': 'Consumer durables', 'sales': 185.52, 'profits': 3.82, 'assets': 450.0, 'marketvalue': 27.47}\n",
      "{'_id': ObjectId('5e5210d0fa600457e70a62f6'), 'rank': 75, 'name': 'Ford Motor', 'country': 'United States', 'category': 'Consumer durables', 'sales': 164.2, 'profits': 0.76, 'assets': 312.56, 'marketvalue': 26.29}\n",
      "{'_id': ObjectId('5e5210d0fa600457e70a6347'), 'rank': 156, 'name': 'Mitsubishi', 'country': 'Japan', 'category': 'Trading companies', 'sales': 112.76, 'profits': 0.46, 'assets': 67.69, 'marketvalue': 15.13}\n",
      "{'_id': ObjectId('5e5210d0fa600457e70a638c'), 'rank': 225, 'name': 'Mitsui & Co', 'country': 'Japan', 'category': 'Trading companies', 'sales': 111.98, 'profits': 0.28, 'assets': 54.88, 'marketvalue': 12.3}\n"
     ]
    }
   ],
   "source": [
    "a1 = db_forbes.find({'sales':{'$gt':100}})\n",
    "for a in a1:\n",
    "    print(a)"
   ]
  },
  {
   "cell_type": "code",
   "execution_count": 65,
   "metadata": {},
   "outputs": [
    {
     "name": "stdout",
     "output_type": "stream",
     "text": [
      "{'_id': ObjectId('5e5210d0fa600457e70a639e'), 'rank': 243, 'name': 'Indian Oil', 'country': 'India', 'category': 'Oil & gas operations', 'sales': 25.26, 'profits': 1.39, 'assets': 13.74, 'marketvalue': 12.93}\n",
      "{'_id': ObjectId('5e5210d0fa600457e70a63a6'), 'rank': 251, 'name': 'State Bank of India Group', 'country': 'India', 'category': 'Banking', 'sales': 10.37, 'profits': 0.88, 'assets': 104.8, 'marketvalue': 7.34}\n",
      "{'_id': ObjectId('5e5210d0fa600457e70a63bc'), 'rank': 273, 'name': 'Oil & Natural Gas', 'country': 'India', 'category': 'Oil & gas operations', 'sales': 7.01, 'profits': 2.2, 'assets': 15.75, 'marketvalue': 23.26}\n",
      "{'_id': ObjectId('5e5210d0fa600457e70a63da'), 'rank': 303, 'name': 'Reliance Industries', 'country': 'India', 'category': 'Oil & gas operations', 'sales': 9.57, 'profits': 0.84, 'assets': 13.49, 'marketvalue': 18.4}\n",
      "{'_id': ObjectId('5e5210d0fa600457e70a65cf'), 'rank': 804, 'name': 'Bharat Petroleum', 'country': 'India', 'category': 'Oil & gas operations', 'sales': 11.97, 'profits': 0.32, 'assets': 4.7, 'marketvalue': 3.22}\n",
      "{'_id': ObjectId('5e5210d0fa600457e70a65df'), 'rank': 820, 'name': 'ICICI Bank', 'country': 'India', 'category': 'Banking', 'sales': 2.57, 'profits': 0.24, 'assets': 22.94, 'marketvalue': 4.22}\n",
      "{'_id': ObjectId('5e5210d0fa600457e70a6603'), 'rank': 856, 'name': 'Hindustan Petroleum', 'country': 'India', 'category': 'Oil & gas operations', 'sales': 10.16, 'profits': 0.31, 'assets': 3.84, 'marketvalue': 3.61}\n",
      "{'_id': ObjectId('5e5210d0fa600457e70a6781'), 'rank': 1238, 'name': 'GAIL (India)', 'country': 'India', 'category': 'Utilities', 'sales': 2.39, 'profits': 0.35, 'assets': 3.14, 'marketvalue': 4.25}\n",
      "{'_id': ObjectId('5e5210d0fa600457e70a67a2'), 'rank': 1271, 'name': 'Canara Bank', 'country': 'India', 'category': 'Banking', 'sales': 1.76, 'profits': 0.22, 'assets': 17.53, 'marketvalue': 1.32}\n",
      "{'_id': ObjectId('5e5210d0fa600457e70a67b1'), 'rank': 1286, 'name': 'Punjab National Bank', 'country': 'India', 'category': 'Banking', 'sales': 1.91, 'profits': 0.2, 'assets': 18.54, 'marketvalue': 1.63}\n",
      "{'_id': ObjectId('5e5210d0fa600457e70a67ca'), 'rank': 1311, 'name': 'ITC', 'country': 'India', 'category': 'Food drink & tobacco', 'sales': 1.3, 'profits': 0.29, 'assets': 1.8, 'marketvalue': 5.81}\n",
      "{'_id': ObjectId('5e5210d0fa600457e70a67d3'), 'rank': 1320, 'name': 'Infosys Technologies', 'country': 'India', 'category': 'Business services & supplies', 'sales': 0.77, 'profits': 0.2, 'assets': 0.75, 'marketvalue': 7.91}\n",
      "{'_id': ObjectId('5e5210d0fa600457e70a67ea'), 'rank': 1343, 'name': 'Wipro', 'country': 'India', 'category': 'Business services & supplies', 'sales': 0.9, 'profits': 0.18, 'assets': 0.88, 'marketvalue': 8.38}\n",
      "{'_id': ObjectId('5e5210d0fa600457e70a67eb'), 'rank': 1344, 'name': 'Bank of India', 'country': 'India', 'category': 'Banking', 'sales': 1.59, 'profits': 0.18, 'assets': 16.16, 'marketvalue': 0.72}\n",
      "{'_id': ObjectId('5e5210d0fa600457e70a67f9'), 'rank': 1358, 'name': 'Bank of Baroda', 'country': 'India', 'category': 'Banking', 'sales': 1.61, 'profits': 0.18, 'assets': 16.48, 'marketvalue': 1.62}\n",
      "{'_id': ObjectId('5e5210d0fa600457e70a680f'), 'rank': 1380, 'name': 'HDFC-Housing Devel', 'country': 'India', 'category': 'Diversified financials', 'sales': 0.65, 'profits': 0.16, 'assets': 6.08, 'marketvalue': 3.65}\n",
      "{'_id': ObjectId('5e5210d0fa600457e70a681c'), 'rank': 1393, 'name': 'Steel Authority of India', 'country': 'India', 'category': 'Materials', 'sales': 3.7, 'profits': -0.1, 'assets': 4.94, 'marketvalue': 4.31}\n",
      "{'_id': ObjectId('5e5210d0fa600457e70a68a5'), 'rank': 1530, 'name': 'Tata Iron & Steel', 'country': 'India', 'category': 'Materials', 'sales': 1.92, 'profits': 0.22, 'assets': 2.69, 'marketvalue': 3.59}\n",
      "{'_id': ObjectId('5e5210d0fa600457e70a68be'), 'rank': 1555, 'name': 'Indl Dev Bank of India', 'country': 'India', 'category': 'Banking', 'sales': 1.56, 'profits': 0.11, 'assets': 15.49, 'marketvalue': 1.08}\n",
      "{'_id': ObjectId('5e5210d0fa600457e70a6900'), 'rank': 1621, 'name': 'Ranbaxy Laboratories', 'country': 'India', 'category': 'Drugs & biotechnology', 'sales': 0.99, 'profits': 0.16, 'assets': 0.68, 'marketvalue': 4.11}\n",
      "{'_id': ObjectId('5e5210d0fa600457e70a6915'), 'rank': 1642, 'name': 'Union Bank of India', 'country': 'India', 'category': 'Banking', 'sales': 1.08, 'profits': 0.12, 'assets': 10.75, 'marketvalue': 0.55}\n",
      "{'_id': ObjectId('5e5210d0fa600457e70a6a2d'), 'rank': 1922, 'name': 'Mahanagar Telephone Nigam', 'country': 'India', 'category': 'Telecommunications services', 'sales': 1.22, 'profits': 0.19, 'assets': 4.06, 'marketvalue': 1.9}\n",
      "{'_id': ObjectId('5e5210d0fa600457e70a6a62'), 'rank': 1975, 'name': 'Neyveli Lignite', 'country': 'India', 'category': 'Materials', 'sales': 0.54, 'profits': 0.24, 'assets': 2.02, 'marketvalue': 2.12}\n",
      "{'_id': ObjectId('5e5210d0fa600457e70a6a6a'), 'rank': 1983, 'name': 'Bharti Tele-Ventures', 'country': 'India', 'category': 'Telecommunications services', 'sales': 0.64, 'profits': -0.04, 'assets': 1.91, 'marketvalue': 6.29}\n",
      "{'_id': ObjectId('5e5210d0fa600457e70a6a6b'), 'rank': 1984, 'name': 'Indian Overseas Bank', 'country': 'India', 'category': 'Banking', 'sales': 0.84, 'profits': 0.09, 'assets': 8.68, 'marketvalue': 0.54}\n",
      "{'_id': ObjectId('5e5210d0fa600457e70a6a79'), 'rank': 1998, 'name': 'Hindalco Industries', 'country': 'India', 'category': 'Materials', 'sales': 1.35, 'profits': 0.14, 'assets': 2.47, 'marketvalue': 2.76}\n",
      "{'_id': ObjectId('5e5210d0fa600457e70a6a7b'), 'rank': 2000, 'name': 'Oriental Bank of Commerce', 'country': 'India', 'category': 'Banking', 'sales': 0.81, 'profits': 0.1, 'assets': 7.16, 'marketvalue': 1.17}\n"
     ]
    }
   ],
   "source": [
    "a2 = db_forbes.find({'country':'India'})\n",
    "for a in a2:\n",
    "    print(a)"
   ]
  },
  {
   "cell_type": "code",
   "execution_count": 57,
   "metadata": {},
   "outputs": [
    {
     "name": "stdout",
     "output_type": "stream",
     "text": [
      "27\n"
     ]
    },
    {
     "name": "stderr",
     "output_type": "stream",
     "text": [
      "C:\\Users\\Yash\\Anaconda3\\lib\\site-packages\\ipykernel_launcher.py:1: DeprecationWarning: count is deprecated. Use Collection.count_documents instead.\n",
      "  \"\"\"Entry point for launching an IPython kernel.\n"
     ]
    }
   ],
   "source": [
    "print(db_forbes.find({'country':'India'}).count())"
   ]
  },
  {
   "cell_type": "code",
   "execution_count": 63,
   "metadata": {},
   "outputs": [
    {
     "name": "stdout",
     "output_type": "stream",
     "text": [
      "['Africa', 'Australia', 'Australia/ United Kingdom', 'Austria', 'Bahamas', 'Belgium', 'Bermuda', 'Brazil', 'Canada', 'Cayman Islands', 'Chile', 'China', 'Czech Republic', 'Denmark', 'Finland', 'France', 'France/ United Kingdom', 'Germany', 'Greece', 'Hong Kong/China', 'Hungary', 'India', 'Indonesia', 'Ireland', 'Islands', 'Israel', 'Italy', 'Japan', 'Jordan', 'Kong/China', 'Korea', 'Liberia', 'Luxembourg', 'Malaysia', 'Mexico', 'Netherlands', 'Netherlands/ United Kingdom', 'New Zealand', 'Norway', 'Pakistan', 'Panama/ United Kingdom', 'Peru', 'Philippines', 'Poland', 'Portugal', 'Russia', 'Singapore', 'South Africa', 'South Korea', 'Spain', 'Sweden', 'Switzerland', 'Taiwan', 'Thailand', 'Turkey', 'United Kingdom', 'United Kingdom/ Australia', 'United Kingdom/ Netherlands', 'United Kingdom/ South Africa', 'United States', 'Venezuela']\n"
     ]
    }
   ],
   "source": [
    "print(sorted(db_forbes.distinct('country')))"
   ]
  },
  {
   "cell_type": "code",
   "execution_count": 66,
   "metadata": {},
   "outputs": [
    {
     "name": "stdout",
     "output_type": "stream",
     "text": [
      "['Aerospace & defense', 'Banking', 'Business services & supplies', 'Capital goods', 'Chemicals', 'Conglomerates', 'Construction', 'Consumer durables', 'Diversified financials', 'Drugs & biotechnology', 'Food drink & tobacco', 'Food markets', 'Health care equipment & services', 'Hotels restaurants & leisure', 'Household & personal products', 'Insurance', 'Materials', 'Media', 'Oil & gas operations', 'Retailing', 'Semiconductors', 'Software & services', 'Technology hardware & equipment', 'Telecommunications services', 'Trading companies', 'Transportation', 'Utilities']\n"
     ]
    }
   ],
   "source": [
    "print(sorted(db_forbes.distinct('category')))"
   ]
  },
  {
   "cell_type": "code",
   "execution_count": null,
   "metadata": {},
   "outputs": [],
   "source": []
  }
 ],
 "metadata": {
  "kernelspec": {
   "display_name": "Python 3",
   "language": "python",
   "name": "python3"
  },
  "language_info": {
   "codemirror_mode": {
    "name": "ipython",
    "version": 3
   },
   "file_extension": ".py",
   "mimetype": "text/x-python",
   "name": "python",
   "nbconvert_exporter": "python",
   "pygments_lexer": "ipython3",
   "version": "3.7.3"
  }
 },
 "nbformat": 4,
 "nbformat_minor": 2
}
